{
 "cells": [
  {
   "cell_type": "code",
   "execution_count": 1,
   "metadata": {},
   "outputs": [],
   "source": [
    "import numpy as np\n",
    "import matplotlib.pyplot as plt"
   ]
  },
  {
   "cell_type": "code",
   "execution_count": 2,
   "metadata": {},
   "outputs": [],
   "source": [
    "import torch\n",
    "from torch import nn"
   ]
  },
  {
   "attachments": {
    "image.png": {
     "image/png": "[encoded data removed]"
    }
   },
   "cell_type": "markdown",
   "metadata": {},
   "source": [
    "![image.png](attachment:image.png)"
   ]
  },
  {
   "cell_type": "code",
   "execution_count": 3,
   "metadata": {},
   "outputs": [],
   "source": [
    "bank_size=512"
   ]
  },
  {
   "cell_type": "code",
   "execution_count": 4,
   "metadata": {},
   "outputs": [],
   "source": [
    "# 512^2 kernels. scale, two means, two variances, rotation\n",
    "# = 6 parameters per kernel.\n",
    "params = torch.rand(bank_size, bank_size, 6, requires_grad=True)"
   ]
  },
  {
   "cell_type": "code",
   "execution_count": 5,
   "metadata": {},
   "outputs": [],
   "source": [
    "@torch.jit.script\n",
    "def gaussian_2d(theta, v, w, rho, sigma, A, in_size:int):\n",
    "    \"\"\"\n",
    "    Generate a 2D Gaussian array centered at (mean_x, mean_y) with given standard deviations and rotation angle.\n",
    "\n",
    "    Args:\n",
    "    - x (int): Width of the array.\n",
    "    - y (int): Height of the array.\n",
    "    - sigma_x (float): Standard deviation along the x-axis.\n",
    "    - sigma_y (float): Standard deviation along the y-axis.\n",
    "    - mean_x (float): Mean along the x-axis (default is 0).\n",
    "    - mean_y (float): Mean along the y-axis (default is 0).\n",
    "    - theta (float): Rotation angle in radians (default is 0).\n",
    "\n",
    "    Returns:\n",
    "    - ndarray: 2D Gaussian array.\n",
    "    \"\"\"\n",
    "\n",
    "    x_indices=torch.linspace(-1,1,in_size)\n",
    "    xx, yy = torch.meshgrid(x_indices, x_indices)\n",
    "\n",
    "    # Rotate the coordinate system\n",
    "    x_rot = xx * torch.cos(theta) - yy * torch.sin(theta)\n",
    "    y_rot = xx * torch.sin(theta) + yy * torch.cos(theta)\n",
    "\n",
    "    exponent = -((x_rot - v)**2 / (2 * rho**2) + (y_rot - w)**2 / (2 * sigma**2))\n",
    "    gaussian = torch.exp(exponent)\n",
    "    return A * gaussian / torch.sum(gaussian)"
   ]
  },
  {
   "cell_type": "code",
   "execution_count": 6,
   "metadata": {},
   "outputs": [],
   "source": [
    "@torch.jit.script\n",
    "def gaussianKernel(theta, v, w, rho, sigma, A, in_size:int):\n",
    "\n",
    "    Sigma = torch.diag(torch.hstack([rho, sigma]))\n",
    "    mu = torch.hstack([v,w])\n",
    "\n",
    "    x=torch.linspace(-1,1,in_size)\n",
    "\n",
    "    x, y = torch.meshgrid(x, x)\n",
    "\n",
    "    x_rot = x * torch.cos(theta) + y * torch.sin(theta)\n",
    "    y_rot = -x * torch.sin(theta) + y * torch.cos(theta)\n",
    "\n",
    "    pos = torch.zeros(x_rot.shape + (2,))\n",
    "    pos[:, :, 0] = x_rot\n",
    "    pos[:, :, 1] = y_rot\n",
    "\n",
    "    const = A / (2 * torch.pi * rho * sigma)\n",
    "    \n",
    "    Sigma_inv = torch.inverse(Sigma)\n",
    "\n",
    "    delta = torch.subtract(pos,mu)\n",
    "\n",
    "    fac = torch.einsum('...k,kl,...l->...', delta, Sigma_inv, delta)\n",
    "\n",
    "    return const * torch.exp(-fac / 2)"
   ]
  },
  {
   "cell_type": "code",
   "execution_count": 7,
   "metadata": {},
   "outputs": [],
   "source": [
    "from numba import jit\n",
    "\n",
    "# DOESN'T REALLY WORK...\n",
    "\n",
    "@jit\n",
    "def gaussianKernel2(theta, v, w, rho, sigma, A, x=np.linspace(-1,1,51)):\n",
    "\n",
    "    Sigma = np.diag([rho, sigma])\n",
    "    mu = np.hstack([v,w])\n",
    "\n",
    "    # x = np.arange(0, in_size)\n",
    "\n",
    "    x, y = np.meshgrid(x, x)\n",
    "\n",
    "    x_rot = x * np.cos(theta) + y * np.sin(theta)\n",
    "    y_rot = -x * np.sin(theta) + y * np.cos(theta)\n",
    "\n",
    "    pos = np.zeros(x_rot.shape + (2,))\n",
    "    pos[:, :, 0] = x_rot\n",
    "    pos[:, :, 1] = y_rot\n",
    "\n",
    "    const = A / (2 * np.pi * rho * sigma)\n",
    "    \n",
    "    Sigma_inv = np.inverse(Sigma)\n",
    "\n",
    "    delta = np.subtract(pos,mu)\n",
    "\n",
    "    fac = np.einsum('...k,kl,...l->...', delta, Sigma_inv, delta)\n",
    "\n",
    "    return const * np.exp(-fac / 2)"
   ]
  },
  {
   "cell_type": "code",
   "execution_count": 8,
   "metadata": {},
   "outputs": [
    {
     "name": "stderr",
     "output_type": "stream",
     "text": [
      "/var/folders/k1/rw613q855tb9t0l6yc6bw7540000gn/T/ipykernel_57281/2629993067.py:6: UserWarning: torch.meshgrid: in an upcoming release, it will be required to pass the indexing argument. (Triggered internally at /Users/runner/work/pytorch/pytorch/pytorch/aten/src/ATen/native/TensorShape.cpp:3484.)\n",
      "  kernels[i][j] = gaussian_2d(*params[i][j], in_size)\n"
     ]
    }
   ],
   "source": [
    "in_size = 50\n",
    "kernels = torch.zeros(bank_size,bank_size,in_size,in_size)\n",
    "\n",
    "for i in range(512):\n",
    "    for j in range(512):\n",
    "        kernels[i][j] = gaussian_2d(*params[i][j], in_size)"
   ]
  },
  {
   "cell_type": "code",
   "execution_count": 8,
   "metadata": {},
   "outputs": [],
   "source": [
    "import torch\n",
    "\n",
    "# Assuming you have your images tensor and weights tensor\n",
    "images_tensor = torch.randn(32, 512, 25, 25)\n",
    "weights = torch.randn(512, 512)\n",
    "\n",
    "# Reshape the images tensor to (4, 1, 512, 25, 25) to match the dimensions for broadcasting\n",
    "images_tensor_reshaped = images_tensor.unsqueeze(1)\n",
    "\n",
    "# Reshape the weights tensor to (1, 512, 512, 1, 1) to match the dimensions for broadcasting\n",
    "weights_reshaped = weights.unsqueeze(0).unsqueeze(-1).unsqueeze(-1)\n",
    "\n",
    "# Perform element-wise multiplication between images_tensor_reshaped and weights_reshaped\n",
    "weighted_images = images_tensor_reshaped * weights_reshaped\n",
    "\n",
    "# Compute the sum along the second dimension to get the weighted sum for each image\n",
    "weighted_sum = torch.sum(weighted_images, dim=2)"
   ]
  },
  {
   "cell_type": "code",
   "execution_count": 9,
   "metadata": {},
   "outputs": [
    {
     "data": {
      "text/plain": [
       "torch.Size([32, 512, 25, 25])"
      ]
     },
     "execution_count": 9,
     "metadata": {},
     "output_type": "execute_result"
    },
    {
     "ename": "",
     "evalue": "",
     "output_type": "error",
     "traceback": [
      "\u001b[1;31mThe Kernel crashed while executing code in the the current cell or a previous cell. Please review the code in the cell(s) to identify a possible cause of the failure. Click <a href='https://aka.ms/vscodeJupyterKernelCrash'>here</a> for more info. View Jupyter <a href='command:jupyter.viewOutput'>log</a> for further details."
     ]
    }
   ],
   "source": [
    "denominators = torch.zeros(32,512,25,25)\n",
    "\n",
    "for batch in images_tensor:\n",
    "    for row in weights:\n",
    "        "
   ]
  },
  {
   "cell_type": "code",
   "execution_count": 17,
   "metadata": {},
   "outputs": [],
   "source": [
    "kernels = torch.zeros(bank_size,bank_size,in_size,in_size)\n",
    "\n",
    "for i in range(512):\n",
    "    for j in range(512):\n",
    "        kernels[i][j] = gaussianKernel(*params[i][j], in_size)"
   ]
  },
  {
   "cell_type": "code",
   "execution_count": null,
   "metadata": {},
   "outputs": [
    {
     "ename": "TypingError",
     "evalue": "Failed in nopython mode pipeline (step: nopython frontend)\nNo implementation of function Function(<function diag at 0x115192200>) found for signature:\n \n >>> diag(list(float32)<iv=None>)\n \nThere are 2 candidate implementations:\n  - Of which 2 did not match due to:\n  Overload of function 'diag': File: numba/np/arrayobj.py: Line 4581.\n    With argument(s): '(list(float32)<iv=None>)':\n   No match.\n\nDuring: resolving callee type: Function(<function diag at 0x115192200>)\nDuring: typing of call at /var/folders/k1/rw613q855tb9t0l6yc6bw7540000gn/T/ipykernel_39626/1207340807.py (6)\n\n\nFile \"../../../../var/folders/k1/rw613q855tb9t0l6yc6bw7540000gn/T/ipykernel_39626/1207340807.py\", line 6:\n<source missing, REPL/exec in use?>\n",
     "output_type": "error",
     "traceback": [
      "\u001b[0;31m---------------------------------------------------------------------------\u001b[0m",
      "\u001b[0;31mTypingError\u001b[0m                               Traceback (most recent call last)",
      "Cell \u001b[0;32mIn[14], line 5\u001b[0m\n\u001b[1;32m      3\u001b[0m \u001b[38;5;28;01mfor\u001b[39;00m i \u001b[38;5;129;01min\u001b[39;00m \u001b[38;5;28mrange\u001b[39m(\u001b[38;5;241m512\u001b[39m):\n\u001b[1;32m      4\u001b[0m     \u001b[38;5;28;01mfor\u001b[39;00m j \u001b[38;5;129;01min\u001b[39;00m \u001b[38;5;28mrange\u001b[39m(\u001b[38;5;241m512\u001b[39m):\n\u001b[0;32m----> 5\u001b[0m         kernels[i][j] \u001b[38;5;241m=\u001b[39m gaussianKernel2(\u001b[38;5;241m*\u001b[39mparams[i][j]\u001b[38;5;241m.\u001b[39mdetach()\u001b[38;5;241m.\u001b[39mnumpy())\n",
      "File \u001b[0;32m~/anaconda3/lib/python3.11/site-packages/numba/core/dispatcher.py:468\u001b[0m, in \u001b[0;36m_DispatcherBase._compile_for_args\u001b[0;34m(self, *args, **kws)\u001b[0m\n\u001b[1;32m    464\u001b[0m         msg \u001b[38;5;241m=\u001b[39m (\u001b[38;5;124mf\u001b[39m\u001b[38;5;124m\"\u001b[39m\u001b[38;5;132;01m{\u001b[39;00m\u001b[38;5;28mstr\u001b[39m(e)\u001b[38;5;241m.\u001b[39mrstrip()\u001b[38;5;132;01m}\u001b[39;00m\u001b[38;5;124m \u001b[39m\u001b[38;5;130;01m\\n\u001b[39;00m\u001b[38;5;130;01m\\n\u001b[39;00m\u001b[38;5;124mThis error may have been caused \u001b[39m\u001b[38;5;124m\"\u001b[39m\n\u001b[1;32m    465\u001b[0m                \u001b[38;5;124mf\u001b[39m\u001b[38;5;124m\"\u001b[39m\u001b[38;5;124mby the following argument(s):\u001b[39m\u001b[38;5;130;01m\\n\u001b[39;00m\u001b[38;5;132;01m{\u001b[39;00margs_str\u001b[38;5;132;01m}\u001b[39;00m\u001b[38;5;130;01m\\n\u001b[39;00m\u001b[38;5;124m\"\u001b[39m)\n\u001b[1;32m    466\u001b[0m         e\u001b[38;5;241m.\u001b[39mpatch_message(msg)\n\u001b[0;32m--> 468\u001b[0m     error_rewrite(e, \u001b[38;5;124m'\u001b[39m\u001b[38;5;124mtyping\u001b[39m\u001b[38;5;124m'\u001b[39m)\n\u001b[1;32m    469\u001b[0m \u001b[38;5;28;01mexcept\u001b[39;00m errors\u001b[38;5;241m.\u001b[39mUnsupportedError \u001b[38;5;28;01mas\u001b[39;00m e:\n\u001b[1;32m    470\u001b[0m     \u001b[38;5;66;03m# Something unsupported is present in the user code, add help info\u001b[39;00m\n\u001b[1;32m    471\u001b[0m     error_rewrite(e, \u001b[38;5;124m'\u001b[39m\u001b[38;5;124munsupported_error\u001b[39m\u001b[38;5;124m'\u001b[39m)\n",
      "File \u001b[0;32m~/anaconda3/lib/python3.11/site-packages/numba/core/dispatcher.py:409\u001b[0m, in \u001b[0;36m_DispatcherBase._compile_for_args.<locals>.error_rewrite\u001b[0;34m(e, issue_type)\u001b[0m\n\u001b[1;32m    407\u001b[0m     \u001b[38;5;28;01mraise\u001b[39;00m e\n\u001b[1;32m    408\u001b[0m \u001b[38;5;28;01melse\u001b[39;00m:\n\u001b[0;32m--> 409\u001b[0m     \u001b[38;5;28;01mraise\u001b[39;00m e\u001b[38;5;241m.\u001b[39mwith_traceback(\u001b[38;5;28;01mNone\u001b[39;00m)\n",
      "\u001b[0;31mTypingError\u001b[0m: Failed in nopython mode pipeline (step: nopython frontend)\nNo implementation of function Function(<function diag at 0x115192200>) found for signature:\n \n >>> diag(list(float32)<iv=None>)\n \nThere are 2 candidate implementations:\n  - Of which 2 did not match due to:\n  Overload of function 'diag': File: numba/np/arrayobj.py: Line 4581.\n    With argument(s): '(list(float32)<iv=None>)':\n   No match.\n\nDuring: resolving callee type: Function(<function diag at 0x115192200>)\nDuring: typing of call at /var/folders/k1/rw613q855tb9t0l6yc6bw7540000gn/T/ipykernel_39626/1207340807.py (6)\n\n\nFile \"../../../../var/folders/k1/rw613q855tb9t0l6yc6bw7540000gn/T/ipykernel_39626/1207340807.py\", line 6:\n<source missing, REPL/exec in use?>\n"
     ]
    }
   ],
   "source": [
    "kernels = torch.zeros(bank_size,bank_size,in_size,in_size)\n",
    "\n",
    "for i in range(512):\n",
    "    for j in range(512):\n",
    "        kernels[i][j] = gaussianKernel2(*params[i][j].detach().numpy())"
   ]
  },
  {
   "cell_type": "code",
   "execution_count": 9,
   "metadata": {},
   "outputs": [],
   "source": [
    "# Example tensors\n",
    "filters_tensor = torch.randn(512, 512, 50, 50)\n",
    "images_tensor = torch.randn(4, 512, 50, 50)"
   ]
  },
  {
   "cell_type": "code",
   "execution_count": 26,
   "metadata": {},
   "outputs": [],
   "source": [
    "results = filters_tensor * images_tensor.unsqueeze(2)"
   ]
  },
  {
   "cell_type": "code",
   "execution_count": 27,
   "metadata": {},
   "outputs": [
    {
     "data": {
      "text/plain": [
       "torch.Size([4, 512, 512, 50, 50])"
      ]
     },
     "execution_count": 27,
     "metadata": {},
     "output_type": "execute_result"
    }
   ],
   "source": [
    "results.shape"
   ]
  },
  {
   "cell_type": "code",
   "execution_count": 29,
   "metadata": {},
   "outputs": [
    {
     "data": {
      "text/plain": [
       "tensor(True)"
      ]
     },
     "execution_count": 29,
     "metadata": {},
     "output_type": "execute_result"
    }
   ],
   "source": [
    "btc = 1\n",
    "i1 = 1\n",
    "i2 = 4\n",
    "torch.all(results[btc][i1][i2] == filters_tensor[i1][i2]*images_tensor[btc][i1])"
   ]
  },
  {
   "cell_type": "code",
   "execution_count": null,
   "metadata": {},
   "outputs": [],
   "source": [
    "# FOLLOWS EXACT FORMULA FROM PAPER"
   ]
  },
  {
   "cell_type": "code",
   "execution_count": 22,
   "metadata": {},
   "outputs": [],
   "source": [
    "# # Expand the images_tensor along the second dimension to match the shape of the filters_tensor\n",
    "# expanded_images_tensor = images_tensor\n",
    "# # expanded_images_tensor = images_tensor.unsqueeze(1).expand(-1, 512, -1, -1)\n",
    "\n",
    "# # Element-wise multiplication\n",
    "# result_tensor = filters_tensor * expanded_images_tensor\n",
    "\n",
    "# # Print the shape of the result tensor\n",
    "# print(\"Shape of the result tensor:\", result_tensor.shape)\n",
    "\n",
    "# # this performs the row-wise filter correspondence in the vonenetdn paper\n",
    "# # ultimately the filter tensor is implicit in the normalisation process\n",
    "# # the orientation is unsubstantial\n",
    "\n",
    "# torch.all(result_tensor[0][0][1] == filters_tensor[0][0][1]*images_tensor[0])"
   ]
  },
  {
   "cell_type": "code",
   "execution_count": 30,
   "metadata": {},
   "outputs": [
    {
     "data": {
      "text/plain": [
       "torch.Size([4, 512, 50, 50])"
      ]
     },
     "execution_count": 30,
     "metadata": {},
     "output_type": "execute_result"
    }
   ],
   "source": [
    "# this constitutes the sum term for the denominator\n",
    "summed = torch.sum(results, dim=1)\n",
    "beta = 1e-4\n",
    "summed = summed + beta\n",
    "summed.shape"
   ]
  },
  {
   "cell_type": "code",
   "execution_count": 31,
   "metadata": {},
   "outputs": [
    {
     "data": {
      "text/plain": [
       "tensor(True)"
      ]
     },
     "execution_count": 31,
     "metadata": {},
     "output_type": "execute_result"
    }
   ],
   "source": [
    "norm = images_tensor / summed\n",
    "# filter-wise division works\n",
    "torch.all(norm[0] == images_tensor[0] / summed[0])"
   ]
  },
  {
   "cell_type": "code",
   "execution_count": 32,
   "metadata": {},
   "outputs": [
    {
     "data": {
      "image/png": "[encoded data removed]",
      "text/plain": [
       "<Figure size 640x480 with 2 Axes>"
      ]
     },
     "metadata": {},
     "output_type": "display_data"
    }
   ],
   "source": [
    "import numpy as np\n",
    "import matplotlib.pyplot as plt\n",
    "from matplotlib import cm\n",
    "from mpl_toolkits.mplot3d import Axes3D\n",
    "\n",
    "x=torch.linspace(-1,1,50)\n",
    "\n",
    "fig, ax = plt.subplots(1,2)\n",
    "\n",
    "gk1 = images_tensor[0][1]\n",
    "gk2 = norm[0][1]\n",
    "contourf1 = ax[0].contourf(x,x,gk1)\n",
    "contourf2 = ax[1].contourf(x,x,gk2)\n",
    "ax[0].set_aspect('equal')\n",
    "ax[1].set_aspect('equal')"
   ]
  },
  {
   "cell_type": "code",
   "execution_count": 6,
   "metadata": {},
   "outputs": [
    {
     "data": {
      "text/plain": [
       "array([   0, 1000])"
      ]
     },
     "execution_count": 6,
     "metadata": {},
     "output_type": "execute_result"
    }
   ],
   "source": [
    "\n",
    "# UPDATED FORM OF GAUSSIAN KERNEL FUNCTION\n",
    "\n",
    "@torch.jit.script\n",
    "def gaussianKernel(theta, v, w, rho, sigma, A, x=torch.linspace(-1,1,51)):\n",
    "\n",
    "    Sigma = torch.diag(torch.hstack([rho, sigma]))\n",
    "    mu = torch.hstack([v,w])\n",
    "\n",
    "    # x = np.arange(0, in_size)\n",
    "\n",
    "    x, y = torch.meshgrid(x, x)\n",
    "\n",
    "    x_rot = x * torch.cos(theta) + y * torch.sin(theta)\n",
    "    y_rot = -x * torch.sin(theta) + y * torch.cos(theta)\n",
    "\n",
    "    pos = torch.zeros(x_rot.shape + (2,))\n",
    "    pos[:, :, 0] = x_rot\n",
    "    pos[:, :, 1] = y_rot\n",
    "\n",
    "    const = A / (2 * torch.pi * rho * sigma)\n",
    "    \n",
    "    Sigma_inv = torch.inverse(Sigma)\n",
    "\n",
    "    delta = torch.subtract(pos,mu)\n",
    "\n",
    "    fac = torch.einsum('...k,kl,...l->...', delta, Sigma_inv, delta)\n",
    "\n",
    "    return const * torch.exp(-fac / 2)\n",
    "\n",
    "# DIMENSIONS OF OUTPUT FROM VONEBLOCK MUST BE STORED SOMEWHERE!\n",
    "# MAP FROM PARAMETERS TO FILTER!\n",
    "\n",
    "class DNBlock(nn.Module):\n",
    "\n",
    "    # initialise all parameters\n",
    "    # compute denominator (bias plus params of kernels all trainable?)\n",
    "    # bank size, image size\n",
    "    # compute full expression\n",
    "    # return\n",
    "\n",
    "    def __init__(self, in_size, bank_size, beta=1e-4):\n",
    "        super().__init__()\n",
    "\n",
    "        self.in_size = in_size\n",
    "        self.bank_size = bank_size\n",
    "        self.kernel = gaussianKernel\n",
    "\n",
    "        self.weights = torch.zeros((bank_size, bank_size, in_size, in_size))\n",
    "\n",
    "        self.beta = beta\n",
    "\n",
    "        self.initialize()\n",
    "\n",
    "\n",
    "    def initialize(self):\n",
    "\n",
    "        # 512^2 kernels. scale, two means, two variances, rotation\n",
    "        # = 6 parameters per kernel\n",
    "        params = torch.rand(self.bank_size, self.bank_size, 6)\n",
    "\n",
    "        self.params = nn.Parameter(params, requires_grad = True)\n",
    "        # enable autograd to accumulate across params\n",
    "\n",
    "\n",
    "    def computeCoefficients(self):\n",
    "\n",
    "        # NEEDS TO HAPPEN ON CPU!!!\n",
    "\n",
    "        # self.weights = torch.zeros((bank_size, bank_size, in_size, in_size)) (IN INIT)\n",
    "\n",
    "        x = torch.linspace(-1, 1, self.in_size, device=\"cpu\")\n",
    "\n",
    "        # I STILL EXPECT THIS TO BE VERY COSTLY.\n",
    "        for i in range(self.bank_size):\n",
    "            for j in range(self.bank_size):\n",
    "                self.weights[i][j] = self.kernel(*params[i][j], in_size=self.in_size)\n",
    "\n",
    "    def denominator(self,x):\n",
    "\n",
    "        # neat trickery that enables weights matrix pointwise multiplication\n",
    "        # in the same fashion that the denominator sum is described\n",
    "        # in the original paper\n",
    "\n",
    "        self.computeCoefficients() # ???\n",
    "        # re-computes the kernels accn. to current state of implicit\n",
    "        # trainable parameters\n",
    "\n",
    "        expanded_images_tensor = images_tensor.unsqueeze(2)\n",
    "        result_tensor = self.weights * expanded_images_tensor\n",
    "        summed = torch.sum(result_tensor, dim=1)\n",
    "        summed = summed + self.beta\n",
    "\n",
    "        return summed\n",
    "\n",
    "    def forward(self,x):\n",
    "\n",
    "        den = self.denominator(x)\n",
    "\n",
    "        return x / den\n",
    "    \n",
    "\n",
    "\n",
    "class VOneBlockDN(VOneBlock):\n",
    "\n",
    "    def __init__(self, sf, theta, sigx, sigy, phase,\n",
    "                 k_exc=25, noise_mode=None, noise_scale=1, noise_level=1,\n",
    "                 simple_channels=128, complex_channels=128, ksize=25, stride=4, input_size=224):\n",
    "\n",
    "        super().__init__(sf, theta, sigx, sigy, phase,\n",
    "                 k_exc, noise_mode, noise_scale, noise_level,\n",
    "                 simple_channels, complex_channels, ksize, stride, input_size)\n",
    "\n",
    "\n",
    "        self.dn = DNBlock(in_size=64, bank_size=self.out_channels)\n",
    "        self.dn.initialize()\n",
    "\n",
    "    def forward(self, x):\n",
    "        # Gabor activations [Batch, out_channels, H/stride, W/stride]\n",
    "        x = self.gabors_f(x)\n",
    "        # Noise [Batch, out_channels, H/stride, W/stride]\n",
    "        x = self.noise_f(x)\n",
    "        # V1 Block output: (Batch, out_channels, H/stride, W/stride)\n",
    "        x = self.output(x)\n",
    "        # DN output\n",
    "        x = self.dn(x)\n",
    "\n",
    "        return x"
   ]
  },
  {
   "cell_type": "raw",
   "metadata": {},
   "source": [
    "  File \"/Users/metehergul/vonenet-mete/vonenet/modules.py\", line 435, in forward\n",
    "    x = self.dn(x)\n",
    "        ^^^^^^^^^^\n",
    "  File \"/Users/metehergul/anaconda3/lib/python3.11/site-packages/torch/nn/modules/module.py\", line 1501, in _call_impl\n",
    "    return forward_call(*args, **kwargs)\n",
    "           ^^^^^^^^^^^^^^^^^^^^^^^^^^^^^\n",
    "  File \"/Users/metehergul/vonenet-mete/vonenet/modules.py\", line 253, in forward\n",
    "    den = self.denominator(x)\n",
    "          ^^^^^^^^^^^^^^^^^^^\n",
    "  File \"/Users/metehergul/vonenet-mete/vonenet/modules.py\", line 244, in denominator\n",
    "    expanded_images_tensor = x.unsqueeze(1).expand(-1, self.bank_size, -1, -1)\n",
    "                             ^^^^^^^^^^^^^^^^^^^^^^^^^^^^^^^^^^^^^^^^^^^^^^^^^\n",
    "RuntimeError: expand(MPSFloatType{[256, 1, 512, 56, 56]}, size=[-1, 512, -1, -1]): the number of sizes provided (4) must be greater or equal to the number of dimensions in the tensor (5)"
   ]
  },
  {
   "attachments": {
    "image.png": {
     "image/png": "[encoded data removed]"
    }
   },
   "cell_type": "markdown",
   "metadata": {},
   "source": [
    "![image.png](attachment:image.png)"
   ]
  },
  {
   "cell_type": "raw",
   "metadata": {},
   "source": [
    "HUH???"
   ]
  },
  {
   "cell_type": "markdown",
   "metadata": {},
   "source": [
    "Issue with: Gaussian Kernels computed accurately but also every time a batch is run (img count / 128). Each batch iteration adds on 43s or so...\n",
    "\n",
    "Tried jit here, doesn't do much."
   ]
  },
  {
   "cell_type": "markdown",
   "metadata": {},
   "source": []
  }
 ],
 "metadata": {
  "kernelspec": {
   "display_name": "base",
   "language": "python",
   "name": "python3"
  },
  "language_info": {
   "codemirror_mode": {
    "name": "ipython",
    "version": 3
   },
   "file_extension": ".py",
   "mimetype": "text/x-python",
   "name": "python",
   "nbconvert_exporter": "python",
   "pygments_lexer": "ipython3",
   "version": "3.11.8"
  }
 },
 "nbformat": 4,
 "nbformat_minor": 2
}
