{
 "cells": [
  {
   "cell_type": "code",
   "execution_count": 2,
   "metadata": {},
   "outputs": [],
   "source": [
    "import numpy as np\n",
    "import matplotlib.pyplot as plt"
   ]
  },
  {
   "cell_type": "code",
   "execution_count": 164,
   "metadata": {},
   "outputs": [
    {
     "ename": "",
     "evalue": "",
     "output_type": "error",
     "traceback": [
      "\u001b[1;31mThe Kernel crashed while executing code in the the current cell or a previous cell. Please review the code in the cell(s) to identify a possible cause of the failure. Click <a href='https://aka.ms/vscodeJupyterKernelCrash'>here</a> for more info. View Jupyter <a href='command:jupyter.viewOutput'>log</a> for further details."
     ]
    }
   ],
   "source": [
    "import torch\n",
    "from torch import nn"
   ]
  },
  {
   "attachments": {
    "image.png": {
     "image/png": "[encoded data removed]"
    }
   },
   "cell_type": "markdown",
   "metadata": {},
   "source": [
    "![image.png](attachment:image.png)"
   ]
  },
  {
   "cell_type": "code",
   "execution_count": 116,
   "metadata": {},
   "outputs": [],
   "source": [
    "bank_size=512"
   ]
  },
  {
   "cell_type": "code",
   "execution_count": null,
   "metadata": {},
   "outputs": [],
   "source": [
    "# 512^2 kernels. scale, two means, two variances, rotation\n",
    "        # = 6 parameters per kernel.\n",
    "        params = torch.rand(self.bank_size, self.bank_size, 6)"
   ]
  },
  {
   "cell_type": "code",
   "execution_count": 117,
   "metadata": {},
   "outputs": [],
   "source": [
    "# initialise parameters tensor (512,512,6):\n",
    "params = torch.rand(bank_size,bank_size,6)"
   ]
  },
  {
   "cell_type": "code",
   "execution_count": 118,
   "metadata": {},
   "outputs": [],
   "source": [
    "in_size = 51\n",
    "\n",
    "def gaussianKernel(theta, v, w, rho, sigma, A, x=torch.linspace(-1,1,in_size)):\n",
    "\n",
    "    Sigma = torch.diag(torch.Tensor([rho, sigma]))\n",
    "    mu = torch.Tensor([v,w])\n",
    "\n",
    "    # x = torch.arange(0, in_size)\n",
    "\n",
    "    x, y = torch.meshgrid(x, x)\n",
    "\n",
    "    x_rot = x * torch.cos(theta) + y * torch.sin(theta)\n",
    "    y_rot = -x * torch.sin(theta) + y * torch.cos(theta)\n",
    "\n",
    "    pos = torch.zeros(x_rot.shape + (2,))\n",
    "    pos[:, :, 0] = x_rot\n",
    "    pos[:, :, 1] = y_rot\n",
    "\n",
    "    const = A / (2 * torch.pi * rho * sigma)\n",
    "    \n",
    "    Sigma_inv = torch.inverse(Sigma)\n",
    "\n",
    "    delta = torch.subtract(pos,mu)\n",
    "\n",
    "    fac = torch.einsum('...k,kl,...l->...', delta, Sigma_inv, delta)\n",
    "\n",
    "    return const * torch.exp(-fac / 2)"
   ]
  },
  {
   "cell_type": "code",
   "execution_count": 119,
   "metadata": {},
   "outputs": [
    {
     "data": {
      "text/plain": [
       "tensor([0.1915, 0.6715, 0.2074, 0.1730, 0.2236, 0.6807])"
      ]
     },
     "execution_count": 119,
     "metadata": {},
     "output_type": "execute_result"
    }
   ],
   "source": [
    "params[0][0]"
   ]
  },
  {
   "cell_type": "code",
   "execution_count": 121,
   "metadata": {},
   "outputs": [
    {
     "data": {
      "text/plain": [
       "0.000179290771484375"
      ]
     },
     "execution_count": 121,
     "metadata": {},
     "output_type": "execute_result"
    }
   ],
   "source": [
    "kernels = torch.zeros(bank_size,bank_size,in_size,in_size)\n",
    "\n",
    "for i in range(512):\n",
    "    for j in range(512):\n",
    "        kernels[i][j] = gaussianKernel(*params[i][j])\n",
    "\n",
    "# for 51x51\n",
    "# EVEN SLOWER ON GPU DUE TO FOR LOOP, COMPUTATION NEEDS TO OCCUR\n",
    "# ON SINGLE-THREAD GPU AND ONLY ONCE.\n",
    "# ISOLATE COMPUTATION OF KERNELS\n",
    "47.0 / (512*512) # 0.18ms per kernel, but really blows at each computation.\n"
   ]
  },
  {
   "cell_type": "code",
   "execution_count": 127,
   "metadata": {},
   "outputs": [],
   "source": [
    "# Example tensors\n",
    "filters_tensor = torch.randn(512, 512, 50, 50)\n",
    "images_tensor = torch.randn(512, 50, 50)"
   ]
  },
  {
   "cell_type": "code",
   "execution_count": 128,
   "metadata": {},
   "outputs": [
    {
     "name": "stdout",
     "output_type": "stream",
     "text": [
      "Shape of the result tensor: torch.Size([512, 512, 50, 50])\n"
     ]
    },
    {
     "data": {
      "text/plain": [
       "tensor(True)"
      ]
     },
     "execution_count": 128,
     "metadata": {},
     "output_type": "execute_result"
    }
   ],
   "source": [
    "# Expand the images_tensor along the second dimension to match the shape of the filters_tensor\n",
    "expanded_images_tensor = images_tensor.unsqueeze(1).expand(-1, 512, -1, -1)\n",
    "\n",
    "# Element-wise multiplication\n",
    "result_tensor = filters_tensor * expanded_images_tensor\n",
    "\n",
    "# Print the shape of the result tensor\n",
    "print(\"Shape of the result tensor:\", result_tensor.shape)\n",
    "\n",
    "# this performs the row-wise filter correspondence in the vonenetdn paper\n",
    "# ultimately the filter tensor is implicit in the normalisation process\n",
    "# the orientation is unsubstantial\n",
    "\n",
    "torch.all(result_tensor[0][1] == filters_tensor[0][1]*images_tensor[0])"
   ]
  },
  {
   "cell_type": "code",
   "execution_count": null,
   "metadata": {},
   "outputs": [],
   "source": []
  },
  {
   "cell_type": "code",
   "execution_count": 145,
   "metadata": {},
   "outputs": [
    {
     "data": {
      "text/plain": [
       "torch.Size([512, 50, 50])"
      ]
     },
     "execution_count": 145,
     "metadata": {},
     "output_type": "execute_result"
    }
   ],
   "source": [
    "# this constitutes the sum term for the denominator\n",
    "summed = torch.sum(result_tensor, dim=0)\n",
    "beta = 1e-4\n",
    "summed = summed + beta\n",
    "summed.shape"
   ]
  },
  {
   "cell_type": "code",
   "execution_count": 146,
   "metadata": {},
   "outputs": [
    {
     "data": {
      "text/plain": [
       "tensor(True)"
      ]
     },
     "execution_count": 146,
     "metadata": {},
     "output_type": "execute_result"
    }
   ],
   "source": [
    "norm = images_tensor / summed\n",
    "# filter-wise division works\n",
    "torch.all(norm[0] == images_tensor[0] / summed[0])"
   ]
  },
  {
   "cell_type": "code",
   "execution_count": 163,
   "metadata": {},
   "outputs": [
    {
     "data": {
      "image/png": "[encoded data removed]",
      "text/plain": [
       "<Figure size 640x480 with 2 Axes>"
      ]
     },
     "metadata": {},
     "output_type": "display_data"
    }
   ],
   "source": [
    "import numpy as np\n",
    "import matplotlib.pyplot as plt\n",
    "from matplotlib import cm\n",
    "from mpl_toolkits.mplot3d import Axes3D\n",
    "\n",
    "x=torch.linspace(-1,1,50)\n",
    "\n",
    "fig, ax = plt.subplots(1,2)\n",
    "\n",
    "gk1 = images_tensor[1]\n",
    "gk2 = norm[1]\n",
    "contourf1 = ax[0].contourf(x,x,gk1)\n",
    "contourf2 = ax[1].contourf(x,x,gk2)\n",
    "ax[0].set_aspect('equal')\n",
    "ax[1].set_aspect('equal')"
   ]
  },
  {
   "cell_type": "code",
   "execution_count": 6,
   "metadata": {},
   "outputs": [
    {
     "data": {
      "text/plain": [
       "array([   0, 1000])"
      ]
     },
     "execution_count": 6,
     "metadata": {},
     "output_type": "execute_result"
    }
   ],
   "source": [
    "\n",
    "# UPDATED FORM OF GAUSSIAN KERNEL FUNCTION\n",
    "\n",
    "def gaussianKernel(theta, v, w, rho, sigma, A, in_size = 50):\n",
    "\n",
    "    Sigma = torch.diag(torch.Tensor([rho, sigma]))\n",
    "    mu = torch.Tensor([v,w])\n",
    "\n",
    "    x = torch.linspace(-1,1,in_size)\n",
    "\n",
    "    x, y = torch.meshgrid(x, x)\n",
    "\n",
    "    x_rot = x * torch.cos(theta) + y * torch.sin(theta)\n",
    "    y_rot = -x * torch.sin(theta) + y * torch.cos(theta)\n",
    "\n",
    "    pos = torch.zeros(x_rot.shape + (2,))\n",
    "    pos[:, :, 0] = x_rot\n",
    "    pos[:, :, 1] = y_rot\n",
    "\n",
    "    const = A / (2 * torch.pi * rho * sigma)\n",
    "    \n",
    "    Sigma_inv = torch.inverse(Sigma)\n",
    "\n",
    "    delta = torch.subtract(pos,mu)\n",
    "\n",
    "    fac = torch.einsum('...k,kl,...l->...', delta, Sigma_inv, delta)\n",
    "\n",
    "    return const * torch.exp(-fac / 2)\n",
    "\n",
    "# DIMENSIONS OF OUTPUT FROM VONEBLOCK MUST BE STORED SOMEWHERE!\n",
    "# MAP FROM PARAMETERS TO FILTER!\n",
    "\n",
    "class DNBlock(nn.Module):\n",
    "\n",
    "    # initialise all parameters\n",
    "    # compute denominator (bias plus params of kernels all trainable?)\n",
    "    # bank size, image size\n",
    "    # compute full expression\n",
    "    # return\n",
    "\n",
    "    def __init__(self, in_size, bank_size, beta=1e-4):\n",
    "        super().__init__()\n",
    "\n",
    "        self.in_size = in_size\n",
    "        self.bank_size = bank_size\n",
    "        self.kernel = gaussianKernel\n",
    "\n",
    "        self.weights = torch.zeros((bank_size, bank_size, in_size, in_size))\n",
    "\n",
    "        self.beta = beta\n",
    "\n",
    "        self.initialize()\n",
    "\n",
    "\n",
    "    def initialize(self):\n",
    "\n",
    "        # 512^2 kernels. scale, two means, two variances, rotation\n",
    "        # = 6 parameters per kernel\n",
    "        params = torch.rand(self.bank_size, self.bank_size, 6)\n",
    "\n",
    "        self.params = nn.Parameter(params, requires_grad = True)\n",
    "        # enable autograd to accumulate across params\n",
    "\n",
    "\n",
    "    def computeCoefficients(self):\n",
    "\n",
    "        # NEEDS TO HAPPEN ON CPU!!!\n",
    "\n",
    "        # self.weights = torch.zeros((bank_size, bank_size, in_size, in_size)) (IN INIT)\n",
    "\n",
    "        x = torch.linspace(-1, 1, self.in_size, device=\"cpu\")\n",
    "\n",
    "        # I STILL EXPECT THIS TO BE VERY COSTLY.\n",
    "        for i in range(self.bank_size):\n",
    "            for j in range(self.bank_size):\n",
    "                self.weights[i][j] = self.kernel(*params[i][j], in_size=self.in_size)\n",
    "\n",
    "    def denominator(self,x):\n",
    "\n",
    "        # neat trickery that enables weights matrix pointwise multiplication\n",
    "        # in the same fashion that the denominator sum is described\n",
    "        # in the original paper\n",
    "\n",
    "        self.computeCoefficients()\n",
    "        # re-computes the kernels accn. to current state of implicit\n",
    "        # trainable parameters\n",
    "\n",
    "        expanded_images_tensor = x.unsqueeze(1).expand(-1, bank_size, -1, -1)\n",
    "        result_tensor = self.weights * expanded_images_tensor\n",
    "        summed = torch.sum(result_tensor, dim=0)\n",
    "        summed = summed + self.beta\n",
    "\n",
    "        return summed\n",
    "\n",
    "    def forward(self,x):\n",
    "\n",
    "        den = self.denominator(x)\n",
    "\n",
    "        return x / den\n",
    "    \n",
    "\n",
    "\n",
    "class VOneBlockDN(VOneBlock):\n",
    "\n",
    "    def __init__(self, sf, theta, sigx, sigy, phase,\n",
    "                 k_exc=25, noise_mode=None, noise_scale=1, noise_level=1,\n",
    "                 simple_channels=128, complex_channels=128, ksize=25, stride=4, input_size=224):\n",
    "\n",
    "        super().__init__(sf, theta, sigx, sigy, phase,\n",
    "                 k_exc, noise_mode, noise_scale, noise_level,\n",
    "                 simple_channels, complex_channels, ksize, stride, input_size)\n",
    "\n",
    "\n",
    "        self.dn = DNBlock(in_size=64, bank_size=self.out_channels)\n",
    "        self.dn.initialize()\n",
    "\n",
    "    def forward(self, x):\n",
    "        # Gabor activations [Batch, out_channels, H/stride, W/stride]\n",
    "        x = self.gabors_f(x)\n",
    "        # Noise [Batch, out_channels, H/stride, W/stride]\n",
    "        x = self.noise_f(x)\n",
    "        # V1 Block output: (Batch, out_channels, H/stride, W/stride)\n",
    "        x = self.output(x)\n",
    "        # DN output\n",
    "        x = self.dn(x)\n",
    "\n",
    "        return x"
   ]
  },
  {
   "cell_type": "raw",
   "metadata": {},
   "source": [
    "  File \"/Users/metehergul/vonenet-mete/vonenet/modules.py\", line 435, in forward\n",
    "    x = self.dn(x)\n",
    "        ^^^^^^^^^^\n",
    "  File \"/Users/metehergul/anaconda3/lib/python3.11/site-packages/torch/nn/modules/module.py\", line 1501, in _call_impl\n",
    "    return forward_call(*args, **kwargs)\n",
    "           ^^^^^^^^^^^^^^^^^^^^^^^^^^^^^\n",
    "  File \"/Users/metehergul/vonenet-mete/vonenet/modules.py\", line 253, in forward\n",
    "    den = self.denominator(x)\n",
    "          ^^^^^^^^^^^^^^^^^^^\n",
    "  File \"/Users/metehergul/vonenet-mete/vonenet/modules.py\", line 244, in denominator\n",
    "    expanded_images_tensor = x.unsqueeze(1).expand(-1, self.bank_size, -1, -1)\n",
    "                             ^^^^^^^^^^^^^^^^^^^^^^^^^^^^^^^^^^^^^^^^^^^^^^^^^\n",
    "RuntimeError: expand(MPSFloatType{[256, 1, 512, 56, 56]}, size=[-1, 512, -1, -1]): the number of sizes provided (4) must be greater or equal to the number of dimensions in the tensor (5)"
   ]
  },
  {
   "cell_type": "markdown",
   "metadata": {},
   "source": [
    "Issue with: Gaussian Kernels computed accurately but also every time a batch is run (img count / 128). Each batch iteration adds on 43s or so..."
   ]
  },
  {
   "cell_type": "markdown",
   "metadata": {},
   "source": []
  }
 ],
 "metadata": {
  "kernelspec": {
   "display_name": "base",
   "language": "python",
   "name": "python3"
  },
  "language_info": {
   "codemirror_mode": {
    "name": "ipython",
    "version": 3
   },
   "file_extension": ".py",
   "mimetype": "text/x-python",
   "name": "python",
   "nbconvert_exporter": "python",
   "pygments_lexer": "ipython3",
   "version": "3.11.5"
  }
 },
 "nbformat": 4,
 "nbformat_minor": 2
}
